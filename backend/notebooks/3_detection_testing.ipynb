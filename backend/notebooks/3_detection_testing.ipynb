{
 "cells": [
  {
   "cell_type": "markdown",
   "metadata": {},
   "source": [
    "# Vehicle Detection Testing\n",
    "\n",
    "This notebook tests the trained YOLOv8 model on example images."
   ]
  },
  {
   "cell_type": "code",
   "execution_count": 1,
   "metadata": {},
   "outputs": [],
   "source": [
    "import torch\n",
    "from ultralytics import YOLO\n",
    "import cv2\n",
    "import matplotlib.pyplot as plt\n",
    "import numpy as np\n",
    "from pathlib import Path"
   ]
  },
  {
   "cell_type": "markdown",
   "metadata": {},
   "source": [
    "## Load Model and Configuration"
   ]
  },
  {
   "cell_type": "code",
   "execution_count": null,
   "metadata": {},
   "outputs": [],
   "source": [
    "# Load the trained model\n",
    "model_path = Path('../runs/vehicle_detection/weights/best.pt')\n",
    "if not model_path.exists():\n",
    "    print(f\"Error: Model not found at {model_path}\")\n",
    "    model_path = Path('yolov8n.pt')  # Use pretrained model if trained one not found\n",
    "    \n",
    "model = YOLO(str(model_path))\n",
    "\n",
    "# Class names\n",
    "class_names = ['Ambulance', 'Fire Engine', 'Police', 'Non Emergency']"
   ]
  },
  {
   "cell_type": "markdown",
   "metadata": {},
   "source": [
    "## Define Helper Functions"
   ]
  },
  {
   "cell_type": "code",
   "execution_count": null,
   "metadata": {},
   "outputs": [],
   "source": [
    "def plot_detection(image, results):\n",
    "    \"\"\"Plot detection results on the image\"\"\"\n",
    "    # Create a copy of the image to draw on\n",
    "    img = image.copy()\n",
    "    \n",
    "    for result in results:\n",
    "        boxes = result.boxes  # Boxes object for bbox outputs\n",
    "        \n",
    "        for box in boxes:\n",
    "            # Get box coordinates and confidence\n",
    "            x1, y1, x2, y2 = map(int, box.xyxy[0])\n",
    "            conf = float(box.conf[0])\n",
    "            cls = int(box.cls[0])\n",
    "            \n",
    "            # Draw bounding box\n",
    "            cv2.rectangle(img, (x1, y1), (x2, y2), (0, 255, 0), 2)\n",
    "            \n",
    "            # Add label\n",
    "            label = f'{class_names[cls]} {conf:.2f}'\n",
    "            cv2.putText(img, label, (x1, y1-10), cv2.FONT_HERSHEY_SIMPLEX, 0.5, (0, 255, 0), 2)\n",
    "    \n",
    "    return img\n",
    "\n",
    "def detect_and_display(image_path):\n",
    "    \"\"\"Run detection on an image and display results\"\"\"\n",
    "    # Read image\n",
    "    img = cv2.imread(str(image_path))\n",
    "    img = cv2.cvtColor(img, cv2.COLOR_BGR2RGB)\n",
    "    \n",
    "    # Run inference\n",
    "    results = model(img)\n",
    "    \n",
    "    # Plot results\n",
    "    detected_img = plot_detection(img, results)\n",
    "    \n",
    "    # Display results\n",
    "    plt.figure(figsize=(12, 8))\n",
    "    plt.imshow(detected_img)\n",
    "    plt.axis('off')\n",
    "    plt.show()\n",
    "    \n",
    "    return results"
   ]
  },
  {
   "cell_type": "markdown",
   "metadata": {},
   "source": [
    "## Test on Sample Images"
   ]
  },
  {
   "cell_type": "code",
   "execution_count": null,
   "metadata": {},
   "outputs": [],
   "source": [
    "# Test directory\n",
    "test_dir = Path('../Dataset/images/test')\n",
    "\n",
    "# Get some test images\n",
    "test_images = list(test_dir.glob('*.png'))[:5]  # Test first 5 images\n",
    "\n",
    "# Run detection on each test image\n",
    "for img_path in test_images:\n",
    "    print(f\"\\nDetecting vehicles in {img_path.name}\")\n",
    "    results = detect_and_display(img_path)\n",
    "    \n",
    "    # Print detection results\n",
    "    for result in results:\n",
    "        for box in result.boxes:\n",
    "            cls = int(box.cls[0])\n",
    "            conf = float(box.conf[0])\n",
    "            print(f\"Detected {class_names[cls]} with confidence {conf:.2f}\")"
   ]
  }
 ],
 "metadata": {
  "kernelspec": {
   "display_name": "Python 3",
   "language": "python",
   "name": "python3"
  },
  "language_info": {
   "codemirror_mode": {
    "name": "ipython",
    "version": 3
   },
   "file_extension": ".py",
   "mimetype": "text/x-python",
   "name": "python",
   "nbconvert_exporter": "python",
   "pygments_lexer": "ipython3",
   "version": "3.10.12"
  }
 },
 "nbformat": 4,
 "nbformat_minor": 2
}
