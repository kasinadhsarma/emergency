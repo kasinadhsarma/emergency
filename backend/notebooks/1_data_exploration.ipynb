{
  "cells": [
    {
      "cell_type": "markdown",
      "metadata": {
        "id": "xOJx5OCi9hlK"
      },
      "source": [
        "# Emergency Vehicle Dataset Exploration\n",
        "\n",
        "This notebook explores the emergency vehicle dataset to understand its characteristics and prepare it for training."
      ]
    },
    {
      "cell_type": "code",
      "execution_count": 1,
      "metadata": {
        "id": "uYai8QLR9hlO"
      },
      "outputs": [],
      "source": [
        "import os\n",
        "import cv2\n",
        "import numpy as np\n",
        "import matplotlib.pyplot as plt\n",
        "import seaborn as sns\n",
        "from pathlib import Path\n",
        "import pandas as pd\n",
        "from PIL import Image\n",
        "import torch"
      ]
    },
    {
      "cell_type": "markdown",
      "metadata": {
        "id": "SaEJXwoA9hlQ"
      },
      "source": [
        "## 1. Dataset Structure Analysis"
      ]
    },
    {
      "cell_type": "code",
      "execution_count": null,
      "metadata": {
        "id": "izx8nOTy9hlR",
        "outputId": "6083267e-b0fd-4b5f-a3a3-adc40d14b026"
      },
      "outputs": [],
      "source": [
        "# Dataset paths\n",
        "DATASET_ROOT = Path('../Dataset')\n",
        "classes = ['Ambulance', 'Fire Engine', 'Police', 'Non Emergency']\n",
        "\n",
        "# Count images per class\n",
        "class_counts = {}\n",
        "for class_name in classes:\n",
        "    class_path = DATASET_ROOT / class_name\n",
        "    if class_path.exists():\n",
        "        n_images = len(list(class_path.glob('*.jpg'))) + len(list(class_path.glob('*.png')))\n",
        "        class_counts[class_name] = n_images\n",
        "\n",
        "# Plot class distribution\n",
        "plt.figure(figsize=(10, 6))\n",
        "sns.barplot(x=list(class_counts.keys()), y=list(class_counts.values()))\n",
        "plt.title('Number of Images per Class')\n",
        "plt.xticks(rotation=45)\n",
        "plt.ylabel('Count')\n",
        "plt.show()"
      ]
    },
    {
      "cell_type": "markdown",
      "metadata": {
        "id": "F7UF9Hq89hlS"
      },
      "source": [
        "## 2. Image Statistics"
      ]
    },
    {
      "cell_type": "code",
      "execution_count": null,
      "metadata": {
        "id": "5BGQlroo9hlT",
        "outputId": "51129b43-5fa3-4657-a338-5f7a6fa3791e"
      },
      "outputs": [],
      "source": [
        "def get_image_stats(image_path):\n",
        "    \"\"\"Get basic statistics for an image\"\"\"\n",
        "    img = cv2.imread(str(image_path))\n",
        "    return {\n",
        "        'height': img.shape[0],\n",
        "        'width': img.shape[1],\n",
        "        'aspect_ratio': img.shape[1] / img.shape[0],\n",
        "        'size_mb': os.path.getsize(image_path) / (1024 * 1024)\n",
        "    }\n",
        "\n",
        "# Collect stats for all images\n",
        "stats = []\n",
        "for class_name in classes:\n",
        "    class_path = DATASET_ROOT / class_name\n",
        "    if class_path.exists():\n",
        "        for img_path in class_path.glob('*.jpg'):\n",
        "            try:\n",
        "                img_stats = get_image_stats(img_path)\n",
        "                img_stats['class'] = class_name\n",
        "                stats.append(img_stats)\n",
        "            except Exception as e:\n",
        "                print(f\"Error processing {img_path}: {e}\")\n",
        "\n",
        "stats_df = pd.DataFrame(stats)\n",
        "\n",
        "# Plot size distributions\n",
        "fig, axes = plt.subplots(2, 2, figsize=(15, 10))\n",
        "fig.suptitle('Image Statistics Distribution')\n",
        "\n",
        "sns.histplot(data=stats_df, x='width', ax=axes[0,0])\n",
        "axes[0,0].set_title('Width Distribution')\n",
        "\n",
        "sns.histplot(data=stats_df, x='height', ax=axes[0,1])\n",
        "axes[0,1].set_title('Height Distribution')\n",
        "\n",
        "sns.histplot(data=stats_df, x='aspect_ratio', ax=axes[1,0])\n",
        "axes[1,0].set_title('Aspect Ratio Distribution')\n",
        "\n",
        "sns.histplot(data=stats_df, x='size_mb', ax=axes[1,1])\n",
        "axes[1,1].set_title('File Size Distribution (MB)')\n",
        "\n",
        "plt.tight_layout()\n",
        "plt.show()"
      ]
    },
    {
      "cell_type": "markdown",
      "metadata": {
        "id": "1D52UbK59hlU"
      },
      "source": [
        "## 3. Sample Visualization"
      ]
    },
    {
      "cell_type": "code",
      "execution_count": null,
      "metadata": {
        "id": "LsY4qiCD9hlU",
        "outputId": "afeb4a44-93e2-4dd3-bf8c-68072dc450cc"
      },
      "outputs": [],
      "source": [
        "def plot_sample_images(n_per_class=3):\n",
        "    \"\"\"Plot sample images from each class\"\"\"\n",
        "    fig, axes = plt.subplots(len(classes), n_per_class, figsize=(15, 4*len(classes)))\n",
        "    fig.suptitle('Sample Images per Class')\n",
        "\n",
        "    for i, class_name in enumerate(classes):\n",
        "        class_path = DATASET_ROOT / class_name\n",
        "        if class_path.exists():\n",
        "            image_paths = list(class_path.glob('*.jpg'))[:n_per_class]\n",
        "            for j, img_path in enumerate(image_paths):\n",
        "                try:\n",
        "                    img = cv2.imread(str(img_path))\n",
        "                    img = cv2.cvtColor(img, cv2.COLOR_BGR2RGB)\n",
        "                    axes[i,j].imshow(img)\n",
        "                    axes[i,j].axis('off')\n",
        "                    if j == 0:\n",
        "                        axes[i,j].set_title(f'{class_name}\\n{img.shape}')\n",
        "                    else:\n",
        "                        axes[i,j].set_title(f'{img.shape}')\n",
        "                except Exception as e:\n",
        "                    print(f\"Error loading {img_path}: {e}\")\n",
        "\n",
        "    plt.tight_layout()\n",
        "    plt.show()\n",
        "\n",
        "plot_sample_images()"
      ]
    },
    {
      "cell_type": "markdown",
      "metadata": {
        "id": "ml0uZisZ9hlV"
      },
      "source": [
        "## 4. Image Quality Analysis"
      ]
    },
    {
      "cell_type": "code",
      "execution_count": null,
      "metadata": {
        "id": "-x3Ppvgn9hlV",
        "outputId": "754b4428-75de-4689-ea62-6f86147a65d3"
      },
      "outputs": [],
      "source": [
        "def analyze_image_quality(image_path):\n",
        "    \"\"\"Basic image quality metrics\"\"\"\n",
        "    img = cv2.imread(str(image_path))\n",
        "    gray = cv2.cvtColor(img, cv2.COLOR_BGR2GRAY)\n",
        "\n",
        "    return {\n",
        "        'brightness': np.mean(gray),\n",
        "        'contrast': np.std(gray),\n",
        "        'blurriness': cv2.Laplacian(gray, cv2.CV_64F).var()\n",
        "    }\n",
        "\n",
        "# Collect quality metrics\n",
        "quality_stats = []\n",
        "for class_name in classes:\n",
        "    class_path = DATASET_ROOT / class_name\n",
        "    if class_path.exists():\n",
        "        for img_path in class_path.glob('*.jpg'):\n",
        "            try:\n",
        "                stats = analyze_image_quality(img_path)\n",
        "                stats['class'] = class_name\n",
        "                quality_stats.append(stats)\n",
        "            except Exception as e:\n",
        "                print(f\"Error analyzing {img_path}: {e}\")\n",
        "\n",
        "quality_df = pd.DataFrame(quality_stats)\n",
        "\n",
        "# Plot quality distributions\n",
        "fig, axes = plt.subplots(1, 3, figsize=(15, 5))\n",
        "fig.suptitle('Image Quality Metrics by Class')\n",
        "\n",
        "sns.boxplot(data=quality_df, x='class', y='brightness', ax=axes[0])\n",
        "axes[0].set_title('Brightness')\n",
        "axes[0].tick_params(axis='x', rotation=45)\n",
        "\n",
        "sns.boxplot(data=quality_df, x='class', y='contrast', ax=axes[1])\n",
        "axes[1].set_title('Contrast')\n",
        "axes[1].tick_params(axis='x', rotation=45)\n",
        "\n",
        "sns.boxplot(data=quality_df, x='class', y='blurriness', ax=axes[2])\n",
        "axes[2].set_title('Blurriness (lower is better)')\n",
        "axes[2].tick_params(axis='x', rotation=45)\n",
        "\n",
        "plt.tight_layout()\n",
        "plt.show()"
      ]
    },
    {
      "cell_type": "markdown",
      "metadata": {
        "id": "8vcsmlmK9hlW"
      },
      "source": [
        "## 5. Data Preprocessing Requirements\n",
        "\n",
        "Based on the analysis above, here are the preprocessing steps needed:\n",
        "\n",
        "1. Image Resizing:\n",
        "   - Standardize all images to 640x640 (YOLOv8 input size)\n",
        "   - Maintain aspect ratio by padding\n",
        "\n",
        "2. Class Balance:\n",
        "   - Apply data augmentation for underrepresented classes\n",
        "   - Consider weighted loss during training\n",
        "\n",
        "3. Quality Improvements:\n",
        "   - Filter out extremely blurry images\n",
        "   - Apply contrast enhancement where needed\n",
        "   - Consider brightness normalization\n",
        "\n",
        "4. Dataset Split:\n",
        "   - 70% training\n",
        "   - 15% validation\n",
        "   - 15% testing"
      ]
    }
  ],
  "metadata": {
    "colab": {
      "provenance": []
    },
    "kernelspec": {
      "display_name": "Python 3",
      "language": "python",
      "name": "python3"
    },
    "language_info": {
      "codemirror_mode": {
        "name": "ipython",
        "version": 3
      },
      "file_extension": ".py",
      "mimetype": "text/x-python",
      "name": "python",
      "nbconvert_exporter": "python",
      "pygments_lexer": "ipython3",
      "version": "3.10.12"
    }
  },
  "nbformat": 4,
  "nbformat_minor": 0
}
