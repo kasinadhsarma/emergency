{
 "cells": [
  {
   "cell_type": "markdown",
   "metadata": {},
   "source": [
    "# Emergency Vehicle Detection Model Training\n",
    "\n",
    "This notebook covers the training of YOLOv8 model for emergency vehicle detection."
   ]
  },
  {
   "cell_type": "code",
   "execution_count": 9,
   "metadata": {},
   "outputs": [],
   "source": [
    "import os\n",
    "from pathlib import Path\n",
    "from ultralytics import YOLO\n",
    "import torch\n",
    "import yaml\n",
    "import shutil\n",
    "from sklearn.model_selection import train_test_split\n",
    "import cv2\n",
    "import numpy as np\n",
    "from tqdm import tqdm"
   ]
  },
  {
   "cell_type": "markdown",
   "metadata": {},
   "source": [
    "## 1. Data Preparation"
   ]
  },
  {
   "cell_type": "code",
   "execution_count": 8,
   "metadata": {},
   "outputs": [],
   "source": [
    "# Setup directories\n",
    "DATASET_ROOT = Path('../Dataset')\n",
    "OUTPUT_DIR = DATASET_ROOT / 'prepared'\n",
    "\n",
    "# Create directories\n",
    "for split in ['train', 'val', 'test']:\n",
    "    (OUTPUT_DIR / split / 'images').mkdir(parents=True, exist_ok=True)\n",
    "    (OUTPUT_DIR / split / 'labels').mkdir(parents=True, exist_ok=True)\n",
    "\n",
    "# Load dataset config\n",
    "with open(DATASET_ROOT / 'dataset.yaml', 'r') as f:\n",
    "    dataset_config = yaml.safe_load(f)\n",
    "\n",
    "# Class mapping\n",
    "class_names = {\n",
    "    'Ambulance': 0,\n",
    "    'Fire Engine': 1,\n",
    "    'Police': 2,\n",
    "    'Non Emergency': 3\n",
    "}"
   ]
  },
  {
   "cell_type": "markdown",
   "metadata": {},
   "source": [
    "## 2. Preprocessing Functions"
   ]
  },
  {
   "cell_type": "code",
   "execution_count": 9,
   "metadata": {},
   "outputs": [],
   "source": [
    "def preprocess_image(img_path, target_size=(640, 640)):\n",
    "    \"\"\"Preprocess image for YOLOv8\"\"\"\n",
    "    img = cv2.imread(str(img_path))\n",
    "    if img is None:\n",
    "        return None\n",
    "        \n",
    "    # Calculate padding\n",
    "    h, w = img.shape[:2]\n",
    "    ratio = min(target_size[0]/w, target_size[1]/h)\n",
    "    new_w, new_h = int(w * ratio), int(h * ratio)\n",
    "    \n",
    "    # Resize\n",
    "    img = cv2.resize(img, (new_w, new_h))\n",
    "    \n",
    "    # Pad\n",
    "    pad_w = (target_size[0] - new_w) // 2\n",
    "    pad_h = (target_size[1] - new_h) // 2\n",
    "    padded = np.full((target_size[1], target_size[0], 3), 114, dtype=np.uint8)\n",
    "    padded[pad_h:pad_h+new_h, pad_w:pad_w+new_w] = img\n",
    "    \n",
    "    return padded\n",
    "\n",
    "def create_label(img_path, class_id):\n",
    "    \"\"\"Create YOLO format label\"\"\"\n",
    "    img = cv2.imread(str(img_path))\n",
    "    h, w = img.shape[:2]\n",
    "    \n",
    "    # Convert to YOLO format (class x_center y_center width height)\n",
    "    return f\"{class_id} 0.5 0.5 0.8 0.8\\n\"  # Approximate bounding box"
   ]
  },
  {
   "cell_type": "markdown",
   "metadata": {},
   "source": [
    "## 3. Process and Split Dataset"
   ]
  },
  {
   "cell_type": "code",
   "execution_count": null,
   "metadata": {},
   "outputs": [],
   "source": [
    "def process_dataset():\n",
    "    \"\"\"Process and split dataset\"\"\"\n",
    "    all_images = []\n",
    "    \n",
    "    # Collect all images\n",
    "    for class_name, class_id in class_names.items():\n",
    "        class_path = DATASET_ROOT / class_name\n",
    "        if not class_path.exists():\n",
    "            continue\n",
    "            \n",
    "        for img_path in class_path.glob('*.jpg'):\n",
    "            all_images.append((img_path, class_id))\n",
    "    \n",
    "    # Split dataset\n",
    "    train_data, test_val = train_test_split(all_images, test_size=0.3, random_state=42)\n",
    "    val_data, test_data = train_test_split(test_val, test_size=0.5, random_state=42)\n",
    "    \n",
    "    # Process splits\n",
    "    for split_name, split_data in [\n",
    "        ('train', train_data),\n",
    "        ('val', val_data),\n",
    "        ('test', test_data)\n",
    "    ]:\n",
    "        for img_path, class_id in tqdm(split_data, desc=f'Processing {split_name}'):\n",
    "            # Preprocess image\n",
    "            processed = preprocess_image(img_path)\n",
    "            if processed is None:\n",
    "                continue\n",
    "                \n",
    "            # Save image\n",
    "            out_img_path = OUTPUT_DIR / split_name / 'images' / img_path.name\n",
    "            cv2.imwrite(str(out_img_path), processed)\n",
    "            \n",
    "            # Create and save label\n",
    "            label = create_label(img_path, class_id)\n",
    "            out_label_path = OUTPUT_DIR / split_name / 'labels' / f\"{img_path.stem}.txt\"\n",
    "            with open(out_label_path, 'w') as f:\n",
    "                f.write(label)\n",
    "\n",
    "# Process dataset\n",
    "process_dataset()"
   ]
  },
  {
   "cell_type": "markdown",
   "metadata": {},
   "source": [
    "## 4. Update Dataset Configuration"
   ]
  },
  {
   "cell_type": "code",
   "execution_count": 11,
   "metadata": {},
   "outputs": [],
   "source": [
    "# Update paths in dataset config\n",
    "dataset_config['path'] = str(OUTPUT_DIR)\n",
    "dataset_config['train'] = str(OUTPUT_DIR / 'train')\n",
    "dataset_config['val'] = str(OUTPUT_DIR / 'val')\n",
    "dataset_config['test'] = str(OUTPUT_DIR / 'test')\n",
    "\n",
    "# Save updated config\n",
    "with open(OUTPUT_DIR / 'dataset.yaml', 'w') as f:\n",
    "    yaml.dump(dataset_config, f)"
   ]
  },
  {
   "cell_type": "markdown",
   "metadata": {},
   "source": [
    "## 5. Model Training"
   ]
  },
  {
   "cell_type": "code",
   "execution_count": null,
   "metadata": {},
   "outputs": [],
   "source": [
    "# Create a new dataset config\n",
    "dataset_yaml = {\n",
    "    'path': str(OUTPUT_DIR.absolute()),  # dataset root dir\n",
    "    'train': str((OUTPUT_DIR / 'train' / 'images').absolute()),  # train images\n",
    "    'val': str((OUTPUT_DIR / 'val' / 'images').absolute()),  # val images\n",
    "    'test': str((OUTPUT_DIR / 'test' / 'images').absolute()),  # test images\n",
    "    'names': {v: k for k, v in class_names.items()},  # class names\n",
    "    'nc': len(class_names)  # number of classes\n",
    "}\n",
    "\n",
    "# Save the updated dataset config\n",
    "yaml_path = OUTPUT_DIR / 'dataset.yaml'\n",
    "with open(yaml_path, 'w') as f:\n",
    "    yaml.dump(dataset_yaml, f, sort_keys=False)\n",
    "\n",
    "# Load base model\n",
    "model = YOLO('yolov8n.pt')\n",
    "\n",
    "# Training arguments\n",
    "training_args = {\n",
    "    'data': str(yaml_path.absolute()),  # use absolute path\n",
    "    'epochs': 100,\n",
    "    'imgsz': 640,\n",
    "    'batch': 16,\n",
    "    'device': 'cuda' if torch.cuda.is_available() else 'cpu',\n",
    "    'workers': 8,\n",
    "    'name': 'emergency_vehicles',\n",
    "    'patience': 50,\n",
    "    'save_period': 10,\n",
    "    'pretrained': True,\n",
    "    'lr0': 0.001,\n",
    "    'lrf': 0.01,\n",
    "    'momentum': 0.937,\n",
    "    'weight_decay': 0.0005,\n",
    "    'warmup_epochs': 3.0,\n",
    "    'warmup_momentum': 0.8,\n",
    "    'warmup_bias_lr': 0.1,\n",
    "    'box': 7.5,\n",
    "    'cls': 0.5,\n",
    "    'hsv_h': 0.015,\n",
    "    'hsv_s': 0.7,\n",
    "    'hsv_v': 0.4,\n",
    "    'translate': 0.1,\n",
    "    'scale': 0.5,\n",
    "    'fliplr': 0.5,\n",
    "    'mosaic': 1.0\n",
    "}\n",
    "\n",
    "# Start training\n",
    "results = model.train(**training_args)"
   ]
  },
  {
   "cell_type": "markdown",
   "metadata": {},
   "source": [
    "## 6. Training Analysis"
   ]
  },
  {
   "cell_type": "code",
   "execution_count": null,
   "metadata": {},
   "outputs": [],
   "source": [
    "import matplotlib.pyplot as plt\n",
    "\n",
    "# Check if model exists and has results\n",
    "if 'model' in globals() and hasattr(model, 'results'):\n",
    "\tmetrics = model.results  # Access results from the trained model\n",
    "\tfor key in metrics.keys():\n",
    "\t\tplt.figure(figsize=(10, 6))\n",
    "\t\tplt.plot(metrics[key])\n",
    "\t\tplt.title(f'Training Metrics - {key}')\n",
    "\t\tplt.xlabel('Epoch')\n",
    "\t\tplt.ylabel(key)\n",
    "\t\tplt.grid(True)\n",
    "\t\tplt.show()\n",
    "else:\n",
    "\tprint(\"Model or training results not found. Make sure the model training cell was executed successfully.\")"
   ]
  },
  {
   "cell_type": "markdown",
   "metadata": {},
   "source": [
    "## 7. Save Model"
   ]
  },
  {
   "cell_type": "code",
   "execution_count": 8,
   "metadata": {},
   "outputs": [
    {
     "name": "stdout",
     "output_type": "stream",
     "text": [
      "Best model file not found. Make sure training was completed successfully.\n"
     ]
    }
   ],
   "source": [
    "from pathlib import Path\n",
    "import shutil\n",
    "\n",
    "# Save the best model\n",
    "best_model_path = Path('./runs/detect/emergency_vehicles/weights/best.pt')\n",
    "if best_model_path.exists():\n",
    "    output_path = Path('./yolov8n.pt')\n",
    "    shutil.copy(best_model_path, output_path)\n",
    "    print(f\"Best model saved to: {output_path}\")\n",
    "else:\n",
    "    print(\"Best model file not found. Make sure training was completed successfully.\")"
   ]
  },
  {
   "cell_type": "code",
   "execution_count": null,
   "metadata": {},
   "outputs": [],
   "source": []
  }
 ],
 "metadata": {
  "kernelspec": {
   "display_name": "Python 3",
   "language": "python",
   "name": "python3"
  },
  "language_info": {
   "codemirror_mode": {
    "name": "ipython",
    "version": 3
   },
   "file_extension": ".py",
   "mimetype": "text/x-python",
   "name": "python",
   "nbconvert_exporter": "python",
   "pygments_lexer": "ipython3",
   "version": "3.10.12"
  }
 },
 "nbformat": 4,
 "nbformat_minor": 2
}
